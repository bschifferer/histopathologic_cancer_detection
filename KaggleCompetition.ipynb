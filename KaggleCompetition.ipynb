{
 "cells": [
  {
   "cell_type": "markdown",
   "metadata": {},
   "source": [
    "# Kaggle Competition"
   ]
  },
  {
   "cell_type": "markdown",
   "metadata": {},
   "source": [
    "This notebook uses pytorch and a 3 layers of 2dconvolution for classification. All functions have inline comments, which gives more information about their usage"
   ]
  },
  {
   "cell_type": "code",
   "execution_count": 11,
   "metadata": {},
   "outputs": [
    {
     "name": "stdout",
     "output_type": "stream",
     "text": [
      "The autoreload extension is already loaded. To reload it, use:\n",
      "  %reload_ext autoreload\n"
     ]
    }
   ],
   "source": [
    "%load_ext autoreload\n",
    "%autoreload 2"
   ]
  },
  {
   "cell_type": "code",
   "execution_count": 12,
   "metadata": {},
   "outputs": [],
   "source": [
    "import numpy as np\n",
    "import pandas as pd\n",
    "\n",
    "import gc\n",
    "\n",
    "from model.utils import read_training_im\n",
    "from model.utils import split_train_val\n",
    "from model.utils import normalize_data\n",
    "\n",
    "from model.model import Net\n",
    "from model.model import train_nn\n",
    "from model.model import predict_test_set\n",
    "from model.dataset import KaggleDataset\n",
    "\n",
    "from torch.utils.data import DataLoader"
   ]
  },
  {
   "cell_type": "code",
   "execution_count": 13,
   "metadata": {},
   "outputs": [],
   "source": [
    "# If data should be read \n",
    "READ_DATA_NEW = False"
   ]
  },
  {
   "cell_type": "code",
   "execution_count": 14,
   "metadata": {},
   "outputs": [
    {
     "name": "stdout",
     "output_type": "stream",
     "text": [
      "Load data\n"
     ]
    }
   ],
   "source": [
    "# Reading the data\n",
    "if READ_DATA_NEW:\n",
    "    print('Read new data')\n",
    "    labels = pd.read_csv('train_labels.csv')\n",
    "    x_image, y_label = read_training_im(labels, 5000)\n",
    "    np.save('x_image.np', x_image)\n",
    "    np.save('y_label.np', y_label)\n",
    "else:\n",
    "    print('Load data')\n",
    "    x_image = np.load('x_image.np.npy')\n",
    "    y_label = np.load('y_label.np.npy')"
   ]
  },
  {
   "cell_type": "code",
   "execution_count": 15,
   "metadata": {},
   "outputs": [],
   "source": [
    "# Split the data in train and validation set\n",
    "x_train, y_train, x_val, y_val = split_train_val(x_image, y_label)"
   ]
  },
  {
   "cell_type": "code",
   "execution_count": 16,
   "metadata": {},
   "outputs": [
    {
     "data": {
      "text/plain": [
       "16"
      ]
     },
     "execution_count": 16,
     "metadata": {},
     "output_type": "execute_result"
    }
   ],
   "source": [
    "# Free some memory\n",
    "x_image = ''\n",
    "y_label = ''\n",
    "gc.collect()"
   ]
  },
  {
   "cell_type": "code",
   "execution_count": 17,
   "metadata": {},
   "outputs": [],
   "source": [
    "# Normalize data\n",
    "x_train, x_val, x_mean, x_std = normalize_data(x_train, x_val)"
   ]
  },
  {
   "cell_type": "code",
   "execution_count": 18,
   "metadata": {},
   "outputs": [],
   "source": [
    "# Change order of channels\n",
    "x_train = np.rollaxis(x_train, 3, 1)\n",
    "x_val = np.rollaxis(x_val, 3, 1)"
   ]
  },
  {
   "cell_type": "code",
   "execution_count": 19,
   "metadata": {},
   "outputs": [],
   "source": [
    "data_train = KaggleDataset(x_train, y_train)\n",
    "data_eval = KaggleDataset(x_val, y_val)"
   ]
  },
  {
   "cell_type": "code",
   "execution_count": 20,
   "metadata": {},
   "outputs": [],
   "source": [
    "trainloader = DataLoader(data_train, batch_size=64, shuffle=True, num_workers=2)"
   ]
  },
  {
   "cell_type": "code",
   "execution_count": 21,
   "metadata": {},
   "outputs": [],
   "source": [
    "valloader = DataLoader(data_eval, batch_size=64, shuffle=False, num_workers=2)"
   ]
  },
  {
   "cell_type": "code",
   "execution_count": 22,
   "metadata": {},
   "outputs": [],
   "source": [
    "# Create the network\n",
    "net = Net().cuda()"
   ]
  },
  {
   "cell_type": "code",
   "execution_count": 23,
   "metadata": {},
   "outputs": [
    {
     "name": "stderr",
     "output_type": "stream",
     "text": [
      "/home/ecbm6040/dlenv/lib/python3.6/site-packages/torch/nn/functional.py:2016: UserWarning: Using a target size (torch.Size([64])) that is different to the input size (torch.Size([64, 1])) is deprecated. Please ensure they have the same size.\n",
      "  \"Please ensure they have the same size.\".format(target.size(), input.size()))\n"
     ]
    },
    {
     "name": "stdout",
     "output_type": "stream",
     "text": [
      "Epoch: 0/10 Batch: 10\n",
      "Epoch: 0/10 Batch: 20\n",
      "Epoch: 0/10 Batch: 30\n",
      "Epoch: 0/10 Batch: 40\n",
      "Epoch: 0/10 Batch: 50\n",
      "Epoch: 0/10 Batch: 60\n",
      "Epoch: 0/10 Batch: 70\n"
     ]
    },
    {
     "name": "stderr",
     "output_type": "stream",
     "text": [
      "/home/ecbm6040/dlenv/lib/python3.6/site-packages/torch/nn/functional.py:2016: UserWarning: Using a target size (torch.Size([20])) that is different to the input size (torch.Size([20, 1])) is deprecated. Please ensure they have the same size.\n",
      "  \"Please ensure they have the same size.\".format(target.size(), input.size()))\n"
     ]
    },
    {
     "name": "stdout",
     "output_type": "stream",
     "text": [
      "Epoch: 0/10 Val Accuracy:0.814\n",
      "Epoch: 1/10 Batch: 10\n",
      "Epoch: 1/10 Batch: 20\n",
      "Epoch: 1/10 Batch: 30\n",
      "Epoch: 1/10 Batch: 40\n",
      "Epoch: 1/10 Batch: 50\n",
      "Epoch: 1/10 Batch: 60\n",
      "Epoch: 1/10 Batch: 70\n",
      "Epoch: 1/10 Val Accuracy:0.824\n",
      "Epoch: 2/10 Batch: 10\n",
      "Epoch: 2/10 Batch: 20\n",
      "Epoch: 2/10 Batch: 30\n",
      "Epoch: 2/10 Batch: 40\n",
      "Epoch: 2/10 Batch: 50\n",
      "Epoch: 2/10 Batch: 60\n",
      "Epoch: 2/10 Batch: 70\n",
      "Epoch: 2/10 Val Accuracy:0.834\n",
      "Epoch: 3/10 Batch: 10\n",
      "Epoch: 3/10 Batch: 20\n",
      "Epoch: 3/10 Batch: 30\n",
      "Epoch: 3/10 Batch: 40\n",
      "Epoch: 3/10 Batch: 50\n",
      "Epoch: 3/10 Batch: 60\n",
      "Epoch: 3/10 Batch: 70\n",
      "Epoch: 3/10 Val Accuracy:0.84\n",
      "Epoch: 4/10 Batch: 10\n",
      "Epoch: 4/10 Batch: 20\n",
      "Epoch: 4/10 Batch: 30\n",
      "Epoch: 4/10 Batch: 40\n",
      "Epoch: 4/10 Batch: 50\n",
      "Epoch: 4/10 Batch: 60\n",
      "Epoch: 4/10 Batch: 70\n",
      "Epoch: 4/10 Val Accuracy:0.826\n",
      "Epoch: 5/10 Batch: 10\n",
      "Epoch: 5/10 Batch: 20\n",
      "Epoch: 5/10 Batch: 30\n",
      "Epoch: 5/10 Batch: 40\n",
      "Epoch: 5/10 Batch: 50\n",
      "Epoch: 5/10 Batch: 60\n",
      "Epoch: 5/10 Batch: 70\n",
      "Epoch: 5/10 Val Accuracy:0.81\n",
      "Epoch: 6/10 Batch: 10\n",
      "Epoch: 6/10 Batch: 20\n",
      "Epoch: 6/10 Batch: 30\n",
      "Epoch: 6/10 Batch: 40\n",
      "Epoch: 6/10 Batch: 50\n",
      "Epoch: 6/10 Batch: 60\n",
      "Epoch: 6/10 Batch: 70\n",
      "Epoch: 6/10 Val Accuracy:0.816\n",
      "Epoch: 7/10 Batch: 10\n",
      "Epoch: 7/10 Batch: 20\n",
      "Epoch: 7/10 Batch: 30\n",
      "Epoch: 7/10 Batch: 40\n",
      "Epoch: 7/10 Batch: 50\n",
      "Epoch: 7/10 Batch: 60\n",
      "Epoch: 7/10 Batch: 70\n",
      "Epoch: 7/10 Val Accuracy:0.848\n",
      "Epoch: 8/10 Batch: 10\n",
      "Epoch: 8/10 Batch: 20\n",
      "Epoch: 8/10 Batch: 30\n",
      "Epoch: 8/10 Batch: 40\n",
      "Epoch: 8/10 Batch: 50\n",
      "Epoch: 8/10 Batch: 60\n",
      "Epoch: 8/10 Batch: 70\n",
      "Epoch: 8/10 Val Accuracy:0.846\n",
      "Epoch: 9/10 Batch: 10\n",
      "Epoch: 9/10 Batch: 20\n",
      "Epoch: 9/10 Batch: 30\n",
      "Epoch: 9/10 Batch: 40\n",
      "Epoch: 9/10 Batch: 50\n",
      "Epoch: 9/10 Batch: 60\n",
      "Epoch: 9/10 Batch: 70\n",
      "Epoch: 9/10 Val Accuracy:0.844\n"
     ]
    }
   ],
   "source": [
    "# Train the model\n",
    "train_nn(net, trainloader, valloader)"
   ]
  },
  {
   "cell_type": "code",
   "execution_count": null,
   "metadata": {},
   "outputs": [
    {
     "name": "stderr",
     "output_type": "stream",
     "text": [
      "/home/ecbm6040/e6040-2019spring-assign3kaggle-e6040-2019spring-assign3kaggle-bds2141/model/model.py:139: UserWarning: volatile was removed and now has no effect. Use `with torch.no_grad():` instead.\n",
      "  batch_x = Variable(torch.from_numpy(x_test), volatile=True).float().cuda()\n"
     ]
    }
   ],
   "source": [
    "# Predict test set\n",
    "test_prediction = predict_test_set(net, './test/*.tif', 64)"
   ]
  }
 ],
 "metadata": {
  "kernelspec": {
   "display_name": "Python 3",
   "language": "python",
   "name": "python3"
  },
  "language_info": {
   "codemirror_mode": {
    "name": "ipython",
    "version": 3
   },
   "file_extension": ".py",
   "mimetype": "text/x-python",
   "name": "python",
   "nbconvert_exporter": "python",
   "pygments_lexer": "ipython3",
   "version": "3.6.8"
  }
 },
 "nbformat": 4,
 "nbformat_minor": 2
}
